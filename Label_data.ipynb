{
  "nbformat": 4,
  "nbformat_minor": 0,
  "metadata": {
    "colab": {
      "provenance": [],
      "authorship_tag": "ABX9TyPziWhulhM/CF2Xtyt1wNta",
      "include_colab_link": true
    },
    "kernelspec": {
      "name": "python3",
      "display_name": "Python 3"
    },
    "language_info": {
      "name": "python"
    }
  },
  "cells": [
    {
      "cell_type": "markdown",
      "metadata": {
        "id": "view-in-github",
        "colab_type": "text"
      },
      "source": [
        "<a href=\"https://colab.research.google.com/github/Athulkrishna-S/CerebraLink/blob/main/Label_data.ipynb\" target=\"_parent\"><img src=\"https://colab.research.google.com/assets/colab-badge.svg\" alt=\"Open In Colab\"/></a>"
      ]
    },
    {
      "cell_type": "code",
      "execution_count": 1,
      "metadata": {
        "colab": {
          "base_uri": "https://localhost:8080/"
        },
        "id": "3BkuRHvqXYpN",
        "outputId": "a151cb27-aa95-4591-e60f-0e299a9da61e"
      },
      "outputs": [
        {
          "output_type": "stream",
          "name": "stdout",
          "text": [
            "Mounted at /content/drive\n"
          ]
        }
      ],
      "source": [
        "from google.colab import drive\n",
        "\n",
        "drive.mount('/content/drive')"
      ]
    },
    {
      "cell_type": "code",
      "source": [
        "import pandas as pd\n",
        "import numpy as np\n",
        "import os\n",
        "import shutil"
      ],
      "metadata": {
        "id": "Dbo_ZB3-aj9K"
      },
      "execution_count": 2,
      "outputs": []
    },
    {
      "cell_type": "code",
      "source": [
        "df=pd.read_csv('/content/drive/MyDrive/Final_Project/datasets_csv_files/Abhijith_eye_up_down(multiples).csv',header=None)"
      ],
      "metadata": {
        "id": "A8sY9eQgzVxO"
      },
      "execution_count": 3,
      "outputs": []
    },
    {
      "cell_type": "code",
      "source": [
        "df.head()"
      ],
      "metadata": {
        "colab": {
          "base_uri": "https://localhost:8080/",
          "height": 206
        },
        "id": "IR_Mqc_bzwme",
        "outputId": "31c12cfd-b2d4-4dcd-e573-c4bef311264f"
      },
      "execution_count": null,
      "outputs": [
        {
          "output_type": "execute_result",
          "data": {
            "text/plain": [
              "    0\n",
              "0 -12\n",
              "1 -15\n",
              "2 -18\n",
              "3 -21\n",
              "4 -24"
            ],
            "text/html": [
              "\n",
              "  <div id=\"df-d1ae015b-86e7-4f54-992b-a1bab3a1e380\" class=\"colab-df-container\">\n",
              "    <div>\n",
              "<style scoped>\n",
              "    .dataframe tbody tr th:only-of-type {\n",
              "        vertical-align: middle;\n",
              "    }\n",
              "\n",
              "    .dataframe tbody tr th {\n",
              "        vertical-align: top;\n",
              "    }\n",
              "\n",
              "    .dataframe thead th {\n",
              "        text-align: right;\n",
              "    }\n",
              "</style>\n",
              "<table border=\"1\" class=\"dataframe\">\n",
              "  <thead>\n",
              "    <tr style=\"text-align: right;\">\n",
              "      <th></th>\n",
              "      <th>0</th>\n",
              "    </tr>\n",
              "  </thead>\n",
              "  <tbody>\n",
              "    <tr>\n",
              "      <th>0</th>\n",
              "      <td>-12</td>\n",
              "    </tr>\n",
              "    <tr>\n",
              "      <th>1</th>\n",
              "      <td>-15</td>\n",
              "    </tr>\n",
              "    <tr>\n",
              "      <th>2</th>\n",
              "      <td>-18</td>\n",
              "    </tr>\n",
              "    <tr>\n",
              "      <th>3</th>\n",
              "      <td>-21</td>\n",
              "    </tr>\n",
              "    <tr>\n",
              "      <th>4</th>\n",
              "      <td>-24</td>\n",
              "    </tr>\n",
              "  </tbody>\n",
              "</table>\n",
              "</div>\n",
              "    <div class=\"colab-df-buttons\">\n",
              "\n",
              "  <div class=\"colab-df-container\">\n",
              "    <button class=\"colab-df-convert\" onclick=\"convertToInteractive('df-d1ae015b-86e7-4f54-992b-a1bab3a1e380')\"\n",
              "            title=\"Convert this dataframe to an interactive table.\"\n",
              "            style=\"display:none;\">\n",
              "\n",
              "  <svg xmlns=\"http://www.w3.org/2000/svg\" height=\"24px\" viewBox=\"0 -960 960 960\">\n",
              "    <path d=\"M120-120v-720h720v720H120Zm60-500h600v-160H180v160Zm220 220h160v-160H400v160Zm0 220h160v-160H400v160ZM180-400h160v-160H180v160Zm440 0h160v-160H620v160ZM180-180h160v-160H180v160Zm440 0h160v-160H620v160Z\"/>\n",
              "  </svg>\n",
              "    </button>\n",
              "\n",
              "  <style>\n",
              "    .colab-df-container {\n",
              "      display:flex;\n",
              "      gap: 12px;\n",
              "    }\n",
              "\n",
              "    .colab-df-convert {\n",
              "      background-color: #E8F0FE;\n",
              "      border: none;\n",
              "      border-radius: 50%;\n",
              "      cursor: pointer;\n",
              "      display: none;\n",
              "      fill: #1967D2;\n",
              "      height: 32px;\n",
              "      padding: 0 0 0 0;\n",
              "      width: 32px;\n",
              "    }\n",
              "\n",
              "    .colab-df-convert:hover {\n",
              "      background-color: #E2EBFA;\n",
              "      box-shadow: 0px 1px 2px rgba(60, 64, 67, 0.3), 0px 1px 3px 1px rgba(60, 64, 67, 0.15);\n",
              "      fill: #174EA6;\n",
              "    }\n",
              "\n",
              "    .colab-df-buttons div {\n",
              "      margin-bottom: 4px;\n",
              "    }\n",
              "\n",
              "    [theme=dark] .colab-df-convert {\n",
              "      background-color: #3B4455;\n",
              "      fill: #D2E3FC;\n",
              "    }\n",
              "\n",
              "    [theme=dark] .colab-df-convert:hover {\n",
              "      background-color: #434B5C;\n",
              "      box-shadow: 0px 1px 3px 1px rgba(0, 0, 0, 0.15);\n",
              "      filter: drop-shadow(0px 1px 2px rgba(0, 0, 0, 0.3));\n",
              "      fill: #FFFFFF;\n",
              "    }\n",
              "  </style>\n",
              "\n",
              "    <script>\n",
              "      const buttonEl =\n",
              "        document.querySelector('#df-d1ae015b-86e7-4f54-992b-a1bab3a1e380 button.colab-df-convert');\n",
              "      buttonEl.style.display =\n",
              "        google.colab.kernel.accessAllowed ? 'block' : 'none';\n",
              "\n",
              "      async function convertToInteractive(key) {\n",
              "        const element = document.querySelector('#df-d1ae015b-86e7-4f54-992b-a1bab3a1e380');\n",
              "        const dataTable =\n",
              "          await google.colab.kernel.invokeFunction('convertToInteractive',\n",
              "                                                    [key], {});\n",
              "        if (!dataTable) return;\n",
              "\n",
              "        const docLinkHtml = 'Like what you see? Visit the ' +\n",
              "          '<a target=\"_blank\" href=https://colab.research.google.com/notebooks/data_table.ipynb>data table notebook</a>'\n",
              "          + ' to learn more about interactive tables.';\n",
              "        element.innerHTML = '';\n",
              "        dataTable['output_type'] = 'display_data';\n",
              "        await google.colab.output.renderOutput(dataTable, element);\n",
              "        const docLink = document.createElement('div');\n",
              "        docLink.innerHTML = docLinkHtml;\n",
              "        element.appendChild(docLink);\n",
              "      }\n",
              "    </script>\n",
              "  </div>\n",
              "\n",
              "\n",
              "<div id=\"df-a1baadb6-dfb2-436c-9dc2-f2882d1f2386\">\n",
              "  <button class=\"colab-df-quickchart\" onclick=\"quickchart('df-a1baadb6-dfb2-436c-9dc2-f2882d1f2386')\"\n",
              "            title=\"Suggest charts\"\n",
              "            style=\"display:none;\">\n",
              "\n",
              "<svg xmlns=\"http://www.w3.org/2000/svg\" height=\"24px\"viewBox=\"0 0 24 24\"\n",
              "     width=\"24px\">\n",
              "    <g>\n",
              "        <path d=\"M19 3H5c-1.1 0-2 .9-2 2v14c0 1.1.9 2 2 2h14c1.1 0 2-.9 2-2V5c0-1.1-.9-2-2-2zM9 17H7v-7h2v7zm4 0h-2V7h2v10zm4 0h-2v-4h2v4z\"/>\n",
              "    </g>\n",
              "</svg>\n",
              "  </button>\n",
              "\n",
              "<style>\n",
              "  .colab-df-quickchart {\n",
              "      --bg-color: #E8F0FE;\n",
              "      --fill-color: #1967D2;\n",
              "      --hover-bg-color: #E2EBFA;\n",
              "      --hover-fill-color: #174EA6;\n",
              "      --disabled-fill-color: #AAA;\n",
              "      --disabled-bg-color: #DDD;\n",
              "  }\n",
              "\n",
              "  [theme=dark] .colab-df-quickchart {\n",
              "      --bg-color: #3B4455;\n",
              "      --fill-color: #D2E3FC;\n",
              "      --hover-bg-color: #434B5C;\n",
              "      --hover-fill-color: #FFFFFF;\n",
              "      --disabled-bg-color: #3B4455;\n",
              "      --disabled-fill-color: #666;\n",
              "  }\n",
              "\n",
              "  .colab-df-quickchart {\n",
              "    background-color: var(--bg-color);\n",
              "    border: none;\n",
              "    border-radius: 50%;\n",
              "    cursor: pointer;\n",
              "    display: none;\n",
              "    fill: var(--fill-color);\n",
              "    height: 32px;\n",
              "    padding: 0;\n",
              "    width: 32px;\n",
              "  }\n",
              "\n",
              "  .colab-df-quickchart:hover {\n",
              "    background-color: var(--hover-bg-color);\n",
              "    box-shadow: 0 1px 2px rgba(60, 64, 67, 0.3), 0 1px 3px 1px rgba(60, 64, 67, 0.15);\n",
              "    fill: var(--button-hover-fill-color);\n",
              "  }\n",
              "\n",
              "  .colab-df-quickchart-complete:disabled,\n",
              "  .colab-df-quickchart-complete:disabled:hover {\n",
              "    background-color: var(--disabled-bg-color);\n",
              "    fill: var(--disabled-fill-color);\n",
              "    box-shadow: none;\n",
              "  }\n",
              "\n",
              "  .colab-df-spinner {\n",
              "    border: 2px solid var(--fill-color);\n",
              "    border-color: transparent;\n",
              "    border-bottom-color: var(--fill-color);\n",
              "    animation:\n",
              "      spin 1s steps(1) infinite;\n",
              "  }\n",
              "\n",
              "  @keyframes spin {\n",
              "    0% {\n",
              "      border-color: transparent;\n",
              "      border-bottom-color: var(--fill-color);\n",
              "      border-left-color: var(--fill-color);\n",
              "    }\n",
              "    20% {\n",
              "      border-color: transparent;\n",
              "      border-left-color: var(--fill-color);\n",
              "      border-top-color: var(--fill-color);\n",
              "    }\n",
              "    30% {\n",
              "      border-color: transparent;\n",
              "      border-left-color: var(--fill-color);\n",
              "      border-top-color: var(--fill-color);\n",
              "      border-right-color: var(--fill-color);\n",
              "    }\n",
              "    40% {\n",
              "      border-color: transparent;\n",
              "      border-right-color: var(--fill-color);\n",
              "      border-top-color: var(--fill-color);\n",
              "    }\n",
              "    60% {\n",
              "      border-color: transparent;\n",
              "      border-right-color: var(--fill-color);\n",
              "    }\n",
              "    80% {\n",
              "      border-color: transparent;\n",
              "      border-right-color: var(--fill-color);\n",
              "      border-bottom-color: var(--fill-color);\n",
              "    }\n",
              "    90% {\n",
              "      border-color: transparent;\n",
              "      border-bottom-color: var(--fill-color);\n",
              "    }\n",
              "  }\n",
              "</style>\n",
              "\n",
              "  <script>\n",
              "    async function quickchart(key) {\n",
              "      const quickchartButtonEl =\n",
              "        document.querySelector('#' + key + ' button');\n",
              "      quickchartButtonEl.disabled = true;  // To prevent multiple clicks.\n",
              "      quickchartButtonEl.classList.add('colab-df-spinner');\n",
              "      try {\n",
              "        const charts = await google.colab.kernel.invokeFunction(\n",
              "            'suggestCharts', [key], {});\n",
              "      } catch (error) {\n",
              "        console.error('Error during call to suggestCharts:', error);\n",
              "      }\n",
              "      quickchartButtonEl.classList.remove('colab-df-spinner');\n",
              "      quickchartButtonEl.classList.add('colab-df-quickchart-complete');\n",
              "    }\n",
              "    (() => {\n",
              "      let quickchartButtonEl =\n",
              "        document.querySelector('#df-a1baadb6-dfb2-436c-9dc2-f2882d1f2386 button');\n",
              "      quickchartButtonEl.style.display =\n",
              "        google.colab.kernel.accessAllowed ? 'block' : 'none';\n",
              "    })();\n",
              "  </script>\n",
              "</div>\n",
              "\n",
              "    </div>\n",
              "  </div>\n"
            ],
            "application/vnd.google.colaboratory.intrinsic+json": {
              "type": "dataframe",
              "variable_name": "df"
            }
          },
          "metadata": {},
          "execution_count": 10
        }
      ]
    },
    {
      "cell_type": "code",
      "source": [
        "df.shape"
      ],
      "metadata": {
        "colab": {
          "base_uri": "https://localhost:8080/"
        },
        "id": "5gLAOXoqz38u",
        "outputId": "4ab8dece-3cbf-451c-c95b-25b9a438f6d3"
      },
      "execution_count": null,
      "outputs": [
        {
          "output_type": "execute_result",
          "data": {
            "text/plain": [
              "(1806352, 1)"
            ]
          },
          "metadata": {},
          "execution_count": 53
        }
      ]
    },
    {
      "cell_type": "code",
      "source": [
        "nan_count = df.isna().sum().sum()\n",
        "\n",
        "# Print the count\n",
        "print(f\"Total NaN values in the DataFrame: {nan_count}\")"
      ],
      "metadata": {
        "colab": {
          "base_uri": "https://localhost:8080/"
        },
        "id": "tVg1F3cP0vBQ",
        "outputId": "d8d5e38c-bcac-43ca-8592-d41c9f97d013"
      },
      "execution_count": 4,
      "outputs": [
        {
          "output_type": "stream",
          "name": "stdout",
          "text": [
            "Total NaN values in the DataFrame: 0\n"
          ]
        }
      ]
    },
    {
      "cell_type": "code",
      "source": [
        "sampling_rate=10000 # 10KHz\n",
        "segment_duration = 5 # 5s\n",
        "samples_per_segment = segment_duration * sampling_rate"
      ],
      "metadata": {
        "id": "qyNi-zLtRCcq"
      },
      "execution_count": 5,
      "outputs": []
    },
    {
      "cell_type": "code",
      "source": [
        "def segment_and_label_data(df, samples_per_segment, label_pattern):\n",
        "    \"\"\"\n",
        "    Segments the data into chunks and labels each segment using a repeating label pattern.\n",
        "\n",
        "    Params:\n",
        "        df (pd.DataFrame): The DataFrame containing the data.\n",
        "        samples_per_segment (int): The number of samples per segment.\n",
        "        label_pattern (list): A list of labels to assign to segments in a repeating pattern.\n",
        "\n",
        "    Returns:\n",
        "        pd.DataFrame: A DataFrame with 'Segment' and 'Label' columns.\n",
        "    \"\"\"\n",
        "    segments = []\n",
        "    labels = []\n",
        "\n",
        "    num_segments=df.shape[0]//samples_per_segment\n",
        "    print(\"Number of Segments : \",num_segments)\n",
        "    for i in range(num_segments):\n",
        "        segment_start = i * samples_per_segment\n",
        "        segment_end = segment_start + samples_per_segment\n",
        "\n",
        "\n",
        "        segment = df.iloc[segment_start:segment_end].values.flatten()\n",
        "        segments.append(segment)\n",
        "        label_index = i % len(label_pattern)\n",
        "        label = label_pattern[label_index]\n",
        "        labels.append(label)\n",
        "\n",
        "    labelled_data = pd.DataFrame({'Segment': segments, 'Label': labels})\n",
        "    return labelled_data\n"
      ],
      "metadata": {
        "id": "G4eAVOMdTFZG"
      },
      "execution_count": 35,
      "outputs": []
    },
    {
      "cell_type": "code",
      "source": [
        "label_pattern = ['rest', 'up', 'rest', 'down']\n",
        "labelled_data = segment_and_label_data(df, samples_per_segment, label_pattern)\n",
        "print(labelled_data)"
      ],
      "metadata": {
        "colab": {
          "base_uri": "https://localhost:8080/"
        },
        "id": "Qz0iNOhLVqNF",
        "outputId": "13974e5c-6ddc-48b4-dd09-c2607a5b2c07"
      },
      "execution_count": 28,
      "outputs": [
        {
          "output_type": "stream",
          "name": "stdout",
          "text": [
            "Number of Segments :  36\n",
            "Segment start :  0\n",
            "Segment end :  50000\n",
            "Length of segment :  50000\n",
            "Segment start :  50000\n",
            "Segment end :  100000\n",
            "Length of segment :  50000\n",
            "Segment start :  100000\n",
            "Segment end :  150000\n",
            "Length of segment :  50000\n",
            "Segment start :  150000\n",
            "Segment end :  200000\n",
            "Length of segment :  50000\n",
            "Segment start :  200000\n",
            "Segment end :  250000\n",
            "Length of segment :  50000\n",
            "Segment start :  250000\n",
            "Segment end :  300000\n",
            "Length of segment :  50000\n",
            "Segment start :  300000\n",
            "Segment end :  350000\n",
            "Length of segment :  50000\n",
            "Segment start :  350000\n",
            "Segment end :  400000\n",
            "Length of segment :  50000\n",
            "Segment start :  400000\n",
            "Segment end :  450000\n",
            "Length of segment :  50000\n",
            "Segment start :  450000\n",
            "Segment end :  500000\n",
            "Length of segment :  50000\n",
            "Segment start :  500000\n",
            "Segment end :  550000\n",
            "Length of segment :  50000\n",
            "Segment start :  550000\n",
            "Segment end :  600000\n",
            "Length of segment :  50000\n",
            "Segment start :  600000\n",
            "Segment end :  650000\n",
            "Length of segment :  50000\n",
            "Segment start :  650000\n",
            "Segment end :  700000\n",
            "Length of segment :  50000\n",
            "Segment start :  700000\n",
            "Segment end :  750000\n",
            "Length of segment :  50000\n",
            "Segment start :  750000\n",
            "Segment end :  800000\n",
            "Length of segment :  50000\n",
            "Segment start :  800000\n",
            "Segment end :  850000\n",
            "Length of segment :  50000\n",
            "Segment start :  850000\n",
            "Segment end :  900000\n",
            "Length of segment :  50000\n",
            "Segment start :  900000\n",
            "Segment end :  950000\n",
            "Length of segment :  50000\n",
            "Segment start :  950000\n",
            "Segment end :  1000000\n",
            "Length of segment :  50000\n",
            "Segment start :  1000000\n",
            "Segment end :  1050000\n",
            "Length of segment :  50000\n",
            "Segment start :  1050000\n",
            "Segment end :  1100000\n",
            "Length of segment :  50000\n",
            "Segment start :  1100000\n",
            "Segment end :  1150000\n",
            "Length of segment :  50000\n",
            "Segment start :  1150000\n",
            "Segment end :  1200000\n",
            "Length of segment :  50000\n",
            "Segment start :  1200000\n",
            "Segment end :  1250000\n",
            "Length of segment :  50000\n",
            "Segment start :  1250000\n",
            "Segment end :  1300000\n",
            "Length of segment :  50000\n",
            "Segment start :  1300000\n",
            "Segment end :  1350000\n",
            "Length of segment :  50000\n",
            "Segment start :  1350000\n",
            "Segment end :  1400000\n",
            "Length of segment :  50000\n",
            "Segment start :  1400000\n",
            "Segment end :  1450000\n",
            "Length of segment :  50000\n",
            "Segment start :  1450000\n",
            "Segment end :  1500000\n",
            "Length of segment :  50000\n",
            "Segment start :  1500000\n",
            "Segment end :  1550000\n",
            "Length of segment :  50000\n",
            "Segment start :  1550000\n",
            "Segment end :  1600000\n",
            "Length of segment :  50000\n",
            "Segment start :  1600000\n",
            "Segment end :  1650000\n",
            "Length of segment :  50000\n",
            "Segment start :  1650000\n",
            "Segment end :  1700000\n",
            "Length of segment :  50000\n",
            "Segment start :  1700000\n",
            "Segment end :  1750000\n",
            "Length of segment :  50000\n",
            "Segment start :  1750000\n",
            "Segment end :  1800000\n",
            "Length of segment :  50000\n",
            "                                              Segment Label\n",
            "0   [510, 505, 500, 494, 489, 484, 479, 473, 468, ...  rest\n",
            "1   [248, 253, 258, 263, 268, 272, 277, 282, 288, ...    up\n",
            "2   [77, 80, 84, 87, 90, 93, 96, 99, 102, 104, 107...  rest\n",
            "3   [135, 139, 142, 146, 149, 153, 157, 161, 165, ...  down\n",
            "4   [796, 800, 804, 808, 813, 816, 820, 824, 828, ...  rest\n",
            "5   [66, 66, 66, 67, 67, 68, 69, 69, 71, 72, 73, 7...    up\n",
            "6   [-6960, -6964, -6969, -6973, -6978, -6982, -69...  rest\n",
            "7   [76, 72, 68, 64, 60, 56, 52, 48, 44, 41, 37, 3...  down\n",
            "8   [215, 216, 216, 217, 217, 217, 217, 216, 216, ...  rest\n",
            "9   [280, 281, 282, 283, 285, 286, 288, 289, 290, ...    up\n",
            "10  [354, 353, 353, 352, 351, 351, 350, 350, 350, ...  rest\n",
            "11  [-821, -822, -823, -825, -827, -829, -831, -83...  down\n",
            "12  [498, 495, 491, 487, 483, 479, 475, 471, 467, ...  rest\n",
            "13  [143, 140, 138, 136, 134, 133, 131, 131, 130, ...    up\n",
            "14  [363, 359, 354, 350, 346, 341, 336, 332, 327, ...  rest\n",
            "15  [-6, -3, 0, 2, 5, 8, 11, 14, 16, 18, 20, 21, 2...  down\n",
            "16  [32, 31, 31, 30, 29, 28, 26, 25, 23, 21, 19, 1...  rest\n",
            "17  [503, 504, 505, 506, 507, 508, 509, 510, 512, ...    up\n",
            "18  [390, 386, 382, 378, 374, 369, 365, 360, 356, ...  rest\n",
            "19  [75, 76, 78, 79, 81, 82, 84, 85, 87, 89, 90, 9...  down\n",
            "20  [200, 196, 193, 190, 187, 184, 181, 178, 176, ...  rest\n",
            "21  [322, 322, 321, 320, 319, 317, 316, 314, 312, ...    up\n",
            "22  [-883, -888, -894, -900, -905, -910, -916, -92...  rest\n",
            "23  [-47, -48, -49, -51, -52, -54, -55, -57, -59, ...  down\n",
            "24  [10962, 10958, 10954, 10949, 10945, 10941, 109...  rest\n",
            "25  [5158, 5149, 5141, 5132, 5124, 5115, 5107, 509...    up\n",
            "26  [-191, -190, -190, -189, -189, -188, -188, -18...  rest\n",
            "27  [-4608, -4605, -4601, -4598, -4594, -4590, -45...  down\n",
            "28  [356, 355, 353, 352, 351, 350, 349, 348, 347, ...  rest\n",
            "29  [-539, -541, -543, -544, -546, -547, -548, -54...    up\n",
            "30  [255, 252, 250, 248, 246, 244, 243, 241, 240, ...  rest\n",
            "31  [-1474, -1472, -1469, -1467, -1465, -1463, -14...  down\n",
            "32  [-536, -537, -538, -539, -540, -541, -542, -54...  rest\n",
            "33  [4863, 4855, 4847, 4839, 4832, 4825, 4818, 481...    up\n",
            "34  [-63, -61, -58, -54, -51, -48, -45, -42, -39, ...  rest\n",
            "35  [-57, -53, -49, -46, -42, -39, -36, -33, -30, ...  down\n"
          ]
        }
      ]
    },
    {
      "cell_type": "code",
      "source": [
        "labelled_data.shape"
      ],
      "metadata": {
        "colab": {
          "base_uri": "https://localhost:8080/"
        },
        "id": "_SXyvsMHV-6U",
        "outputId": "6436593d-9dcc-4a76-d3bc-8456569c3dc2"
      },
      "execution_count": null,
      "outputs": [
        {
          "output_type": "execute_result",
          "data": {
            "text/plain": [
              "(36, 2)"
            ]
          },
          "metadata": {},
          "execution_count": 45
        }
      ]
    },
    {
      "cell_type": "markdown",
      "source": [
        "1. Serialization: Saving Data (Write to File)\n",
        "When you save your labelled_data DataFrame containing NumPy arrays (in the Segment column) to a CSV file:\n",
        "\n",
        "Why serialization is needed? CSV files are text-based, so they can't directly store complex objects like NumPy arrays. Instead, we must convert (serialize) these arrays into a format that can be saved as text (e.g., JSON strings or simple lists).\n",
        "2. Deserialization: Loading Data (Read from File)\n",
        "When you read the file back into a DataFrame:\n",
        "\n",
        "Why deserialization is needed? The arrays stored as text (e.g., JSON strings) in the CSV must be reconstructed (deserialized) into their original format (NumPy arrays).\n"
      ],
      "metadata": {
        "id": "mN-3v8mMPqT3"
      }
    },
    {
      "cell_type": "markdown",
      "source": [
        "If you want to avoid the complexity of converting between JSON strings and NumPy arrays, you can:\n",
        "\n",
        "Save your data to a binary format like NumPy .npz or pickle.\n",
        "Use parquet, a modern file format that can store complex data types. ***bold text***"
      ],
      "metadata": {
        "id": "VC3Pa8iMPtVH"
      }
    },
    {
      "cell_type": "code",
      "source": [
        "\n",
        "# Save the DataFrame with pickle\n",
        "labelled_data.to_pickle('labelled_data.pkl')\n"
      ],
      "metadata": {
        "id": "1IB5eNgeb7W1"
      },
      "execution_count": 29,
      "outputs": []
    },
    {
      "cell_type": "code",
      "source": [
        "# Load the DataFrame with pickle\n",
        "df_temp = pd.read_pickle('labelled_data.pkl')\n",
        "\n",
        "# Calculate the length of the arrays\n",
        "df_temp['length'] = df_temp['Segment'].apply(len)\n",
        "\n",
        "print(df_temp)\n"
      ],
      "metadata": {
        "colab": {
          "base_uri": "https://localhost:8080/"
        },
        "id": "_DEJgUwOPYlY",
        "outputId": "c05bbfef-a98f-4f74-ca7f-8f7eb61e8bb2"
      },
      "execution_count": 30,
      "outputs": [
        {
          "output_type": "stream",
          "name": "stdout",
          "text": [
            "                                              Segment Label  length\n",
            "0   [510, 505, 500, 494, 489, 484, 479, 473, 468, ...  rest   50000\n",
            "1   [248, 253, 258, 263, 268, 272, 277, 282, 288, ...    up   50000\n",
            "2   [77, 80, 84, 87, 90, 93, 96, 99, 102, 104, 107...  rest   50000\n",
            "3   [135, 139, 142, 146, 149, 153, 157, 161, 165, ...  down   50000\n",
            "4   [796, 800, 804, 808, 813, 816, 820, 824, 828, ...  rest   50000\n",
            "5   [66, 66, 66, 67, 67, 68, 69, 69, 71, 72, 73, 7...    up   50000\n",
            "6   [-6960, -6964, -6969, -6973, -6978, -6982, -69...  rest   50000\n",
            "7   [76, 72, 68, 64, 60, 56, 52, 48, 44, 41, 37, 3...  down   50000\n",
            "8   [215, 216, 216, 217, 217, 217, 217, 216, 216, ...  rest   50000\n",
            "9   [280, 281, 282, 283, 285, 286, 288, 289, 290, ...    up   50000\n",
            "10  [354, 353, 353, 352, 351, 351, 350, 350, 350, ...  rest   50000\n",
            "11  [-821, -822, -823, -825, -827, -829, -831, -83...  down   50000\n",
            "12  [498, 495, 491, 487, 483, 479, 475, 471, 467, ...  rest   50000\n",
            "13  [143, 140, 138, 136, 134, 133, 131, 131, 130, ...    up   50000\n",
            "14  [363, 359, 354, 350, 346, 341, 336, 332, 327, ...  rest   50000\n",
            "15  [-6, -3, 0, 2, 5, 8, 11, 14, 16, 18, 20, 21, 2...  down   50000\n",
            "16  [32, 31, 31, 30, 29, 28, 26, 25, 23, 21, 19, 1...  rest   50000\n",
            "17  [503, 504, 505, 506, 507, 508, 509, 510, 512, ...    up   50000\n",
            "18  [390, 386, 382, 378, 374, 369, 365, 360, 356, ...  rest   50000\n",
            "19  [75, 76, 78, 79, 81, 82, 84, 85, 87, 89, 90, 9...  down   50000\n",
            "20  [200, 196, 193, 190, 187, 184, 181, 178, 176, ...  rest   50000\n",
            "21  [322, 322, 321, 320, 319, 317, 316, 314, 312, ...    up   50000\n",
            "22  [-883, -888, -894, -900, -905, -910, -916, -92...  rest   50000\n",
            "23  [-47, -48, -49, -51, -52, -54, -55, -57, -59, ...  down   50000\n",
            "24  [10962, 10958, 10954, 10949, 10945, 10941, 109...  rest   50000\n",
            "25  [5158, 5149, 5141, 5132, 5124, 5115, 5107, 509...    up   50000\n",
            "26  [-191, -190, -190, -189, -189, -188, -188, -18...  rest   50000\n",
            "27  [-4608, -4605, -4601, -4598, -4594, -4590, -45...  down   50000\n",
            "28  [356, 355, 353, 352, 351, 350, 349, 348, 347, ...  rest   50000\n",
            "29  [-539, -541, -543, -544, -546, -547, -548, -54...    up   50000\n",
            "30  [255, 252, 250, 248, 246, 244, 243, 241, 240, ...  rest   50000\n",
            "31  [-1474, -1472, -1469, -1467, -1465, -1463, -14...  down   50000\n",
            "32  [-536, -537, -538, -539, -540, -541, -542, -54...  rest   50000\n",
            "33  [4863, 4855, 4847, 4839, 4832, 4825, 4818, 481...    up   50000\n",
            "34  [-63, -61, -58, -54, -51, -48, -45, -42, -39, ...  rest   50000\n",
            "35  [-57, -53, -49, -46, -42, -39, -36, -33, -30, ...  down   50000\n"
          ]
        }
      ]
    },
    {
      "cell_type": "code",
      "source": [
        "'''\n",
        "    Split the up_down and right_left datasets into separate folders\n",
        "\n",
        "'''\n",
        "\n",
        "source_dir = '/content/drive/My Drive/Final_Project/datasets_csv_files'\n",
        "up_down_dir = '/content/drive/My Drive/Final_Project/datasets_csv_eye_up_down'\n",
        "right_left_dir = '/content/drive/My Drive/Final_Project/datasets_csv_eye_right_left'\n",
        "\n",
        "os.makedirs(up_down_dir, exist_ok=True)\n",
        "os.makedirs(right_left_dir, exist_ok=True)\n",
        "\n",
        "for filename in os.listdir(source_dir):\n",
        "  if 'eye_up_down' in filename:\n",
        "    shutil.copy(os.path.join(source_dir, filename), os.path.join(up_down_dir, filename))\n",
        "  elif 'eye_right_left' in filename:\n",
        "    shutil.copy(os.path.join(source_dir, filename), os.path.join(right_left_dir, filename))\n"
      ],
      "metadata": {
        "id": "LwCOGZcldQSd"
      },
      "execution_count": 15,
      "outputs": []
    },
    {
      "cell_type": "code",
      "source": [
        "'''\n",
        "    Label the up_down datasets\n",
        "\n",
        "'''\n",
        "\n",
        "\n",
        "source_dir = up_down_dir = '/content/drive/My Drive/Final_Project/datasets_csv_eye_up_down'\n",
        "output_dir = '/content/drive/My Drive/Final_Project/labelled_datasets_csv_eye_up_down'\n",
        "\n",
        "os.makedirs(output_dir, exist_ok=True)\n",
        "\n",
        "for filename in os.listdir(source_dir):\n",
        "  print('Current File : ',filename)\n",
        "  full_name = os.path.join(source_dir, filename)\n",
        "  df = pd.read_csv(full_name, header=None)\n",
        "  print('DataFrame Shape : ',df.shape)\n",
        "  label_pattern = ['rest', 'up', 'rest', 'down']\n",
        "  labelled_data = segment_and_label_data(df, samples_per_segment, label_pattern)\n",
        "  output_filename = os.path.splitext(filename)[0] + '_labelled.pkl'\n",
        "  output_path = os.path.join(output_dir, output_filename)\n",
        "  labelled_data.to_pickle(output_path)"
      ],
      "metadata": {
        "colab": {
          "base_uri": "https://localhost:8080/"
        },
        "id": "0VISxmUxgysG",
        "outputId": "c1ac156f-de31-4a32-d51b-37d8e3ca73c5"
      },
      "execution_count": 36,
      "outputs": [
        {
          "output_type": "stream",
          "name": "stdout",
          "text": [
            "Current File :  Alphons_eye_up_down(multiples).csv\n",
            "DataFrame Shape :  (1815280, 1)\n",
            "Number of Segments :  36\n",
            "Current File :  Abhijith_eye_up_down(multiples).csv\n",
            "DataFrame Shape :  (1806352, 1)\n",
            "Number of Segments :  36\n",
            "Current File :  Govind_eye_up_down(multiples).csv\n",
            "DataFrame Shape :  (1806704, 1)\n",
            "Number of Segments :  36\n",
            "Current File :  joel_eye_up_down(multiples).csv\n",
            "DataFrame Shape :  (1817664, 1)\n",
            "Number of Segments :  36\n",
            "Current File :  Athul_eye_up_down(multiples).csv\n",
            "DataFrame Shape :  (1815632, 1)\n",
            "Number of Segments :  36\n",
            "Current File :  Malavika_eye_up_down(multiples).csv\n",
            "DataFrame Shape :  (1859488, 1)\n",
            "Number of Segments :  37\n"
          ]
        }
      ]
    },
    {
      "cell_type": "code",
      "source": [
        "'''\n",
        "    Label the  right_left datasets\n",
        "\n",
        "'''\n",
        "\n",
        "source_dir = up_down_dir = '/content/drive/My Drive/Final_Project/datasets_csv_eye_right_left'\n",
        "output_dir = '/content/drive/My Drive/Final_Project/labelled_datasets_csv_eye_right_left'\n",
        "\n",
        "os.makedirs(output_dir, exist_ok=True)\n",
        "\n",
        "for filename in os.listdir(source_dir):\n",
        "  print('Current File : ',filename)\n",
        "  full_name = os.path.join(source_dir, filename)\n",
        "  df = pd.read_csv(full_name, header=None)\n",
        "  print('DataFrame Shape : ',df.shape)\n",
        "  label_pattern = ['rest', 'right', 'rest', 'left']\n",
        "  labelled_data = segment_and_label_data(df, samples_per_segment, label_pattern)\n",
        "  output_filename = os.path.splitext(filename)[0] + '_labelled.pkl'\n",
        "  output_path = os.path.join(output_dir, output_filename)\n",
        "  labelled_data.to_pickle(output_path)"
      ],
      "metadata": {
        "colab": {
          "base_uri": "https://localhost:8080/"
        },
        "id": "e4gNNTlEk_u4",
        "outputId": "d4dd049d-306e-4b33-b59c-f0f27a530363"
      },
      "execution_count": 37,
      "outputs": [
        {
          "output_type": "stream",
          "name": "stdout",
          "text": [
            "Current File :  Alphons_eye_right_left(multiples).csv\n",
            "DataFrame Shape :  (1843904, 1)\n",
            "Number of Segments :  36\n",
            "Current File :  Anns_eye_right_left(multiples).csv\n",
            "DataFrame Shape :  (1808976, 1)\n",
            "Number of Segments :  36\n",
            "Current File :  Abhijith_eye_right_left(multiples).csv\n",
            "DataFrame Shape :  (1813664, 1)\n",
            "Number of Segments :  36\n",
            "Current File :  joel_eye_right_left(multiples).csv\n",
            "DataFrame Shape :  (1850896, 1)\n",
            "Number of Segments :  37\n",
            "Current File :  Athul_eye_right_left(multiples).csv\n",
            "DataFrame Shape :  (1813152, 1)\n",
            "Number of Segments :  36\n",
            "Current File :  Govind_eye_right_left(multiples).csv\n",
            "DataFrame Shape :  (1799888, 1)\n",
            "Number of Segments :  35\n",
            "Current File :  Malavika_eye_right_left(multiples).csv\n",
            "DataFrame Shape :  (1827920, 1)\n",
            "Number of Segments :  36\n"
          ]
        }
      ]
    }
  ]
}