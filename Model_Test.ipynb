{
  "nbformat": 4,
  "nbformat_minor": 0,
  "metadata": {
    "colab": {
      "provenance": [],
      "authorship_tag": "ABX9TyPBn8QQhbgdWoU5bgdNqgU+",
      "include_colab_link": true
    },
    "kernelspec": {
      "name": "python3",
      "display_name": "Python 3"
    },
    "language_info": {
      "name": "python"
    }
  },
  "cells": [
    {
      "cell_type": "markdown",
      "metadata": {
        "id": "view-in-github",
        "colab_type": "text"
      },
      "source": [
        "<a href=\"https://colab.research.google.com/github/Athulkrishna-S/CerebraLink/blob/main/Model_Test.ipynb\" target=\"_parent\"><img src=\"https://colab.research.google.com/assets/colab-badge.svg\" alt=\"Open In Colab\"/></a>"
      ]
    },
    {
      "cell_type": "code",
      "execution_count": 1,
      "metadata": {
        "colab": {
          "base_uri": "https://localhost:8080/"
        },
        "id": "EQyMNjCAjE6l",
        "outputId": "54229a6d-c4de-4e87-9f3d-b4ca4e5885c6"
      },
      "outputs": [
        {
          "output_type": "stream",
          "name": "stdout",
          "text": [
            "Mounted at /content/drive\n"
          ]
        }
      ],
      "source": [
        "from google.colab import drive\n",
        "\n",
        "drive.mount('/content/drive')"
      ]
    },
    {
      "cell_type": "code",
      "source": [
        "import numpy as np\n",
        "import pandas as pd\n",
        "import os"
      ],
      "metadata": {
        "id": "ugC3O6G1jgMQ"
      },
      "execution_count": 2,
      "outputs": []
    },
    {
      "cell_type": "code",
      "source": [
        "folder_path = '/content/drive/MyDrive/Final_Project'\n",
        "file_name='eye_up_down_features.pkl'"
      ],
      "metadata": {
        "id": "tm9myVXrjlJA"
      },
      "execution_count": 7,
      "outputs": []
    },
    {
      "cell_type": "code",
      "source": [
        "from sklearn.model_selection import StratifiedKFold , cross_val_score\n",
        "from sklearn.ensemble import RandomForestClassifier\n",
        "from sklearn.metrics import classification_report\n",
        "from sklearn.preprocessing import LabelEncoder"
      ],
      "metadata": {
        "id": "G-opYdYqjxjo"
      },
      "execution_count": 5,
      "outputs": []
    },
    {
      "cell_type": "code",
      "source": [
        "data = pd.read_pickle(os.path.join(folder_path,file_name))"
      ],
      "metadata": {
        "id": "wxKqqZtYmjT4"
      },
      "execution_count": 8,
      "outputs": []
    },
    {
      "cell_type": "code",
      "source": [
        "data.head()"
      ],
      "metadata": {
        "colab": {
          "base_uri": "https://localhost:8080/",
          "height": 206
        },
        "id": "BfUxDnRrmwep",
        "outputId": "61b16b4e-2058-43c4-f302-a430f2a7d174"
      },
      "execution_count": 11,
      "outputs": [
        {
          "output_type": "execute_result",
          "data": {
            "text/plain": [
              "       mean      std_dev          rms  peak_to_peak  skewness   kurtosis  \\\n",
              "0  187.8132  1869.595227  1879.005086         22230  1.660935  15.285868   \n",
              "1  367.2804  3564.492020  3583.364097         25800  0.240154   3.465215   \n",
              "2  -14.9826  1903.652736  1903.711695         23490 -2.327222  20.187052   \n",
              "3 -103.0128  4141.508170  4142.789104         25260  0.891851   2.723926   \n",
              "4  354.7260  1717.732992  1753.977528         18840  2.143470  15.337650   \n",
              "\n",
              "   max_amp  min_amp  dominant_freq  signal_power  hurst_exponent  higuchi_fd  \\\n",
              "0    11820   -10410        39.0625   4779.170431        1.562065    1.189970   \n",
              "1    13410   -12390        39.0625  14780.217093        1.764543    1.113945   \n",
              "2    11220   -12270        39.0625   4654.511766        1.566912    1.195824   \n",
              "3    15210   -10050        39.0625   6620.899303        1.604872    1.192660   \n",
              "4    12630    -6210        39.0625   9814.275230        1.407774    1.135784   \n",
              "\n",
              "  Label  \n",
              "0  rest  \n",
              "1    up  \n",
              "2  rest  \n",
              "3  down  \n",
              "4  rest  "
            ],
            "text/html": [
              "\n",
              "  <div id=\"df-4e1c14e0-419b-46ce-b9a6-6ca04180a559\" class=\"colab-df-container\">\n",
              "    <div>\n",
              "<style scoped>\n",
              "    .dataframe tbody tr th:only-of-type {\n",
              "        vertical-align: middle;\n",
              "    }\n",
              "\n",
              "    .dataframe tbody tr th {\n",
              "        vertical-align: top;\n",
              "    }\n",
              "\n",
              "    .dataframe thead th {\n",
              "        text-align: right;\n",
              "    }\n",
              "</style>\n",
              "<table border=\"1\" class=\"dataframe\">\n",
              "  <thead>\n",
              "    <tr style=\"text-align: right;\">\n",
              "      <th></th>\n",
              "      <th>mean</th>\n",
              "      <th>std_dev</th>\n",
              "      <th>rms</th>\n",
              "      <th>peak_to_peak</th>\n",
              "      <th>skewness</th>\n",
              "      <th>kurtosis</th>\n",
              "      <th>max_amp</th>\n",
              "      <th>min_amp</th>\n",
              "      <th>dominant_freq</th>\n",
              "      <th>signal_power</th>\n",
              "      <th>hurst_exponent</th>\n",
              "      <th>higuchi_fd</th>\n",
              "      <th>Label</th>\n",
              "    </tr>\n",
              "  </thead>\n",
              "  <tbody>\n",
              "    <tr>\n",
              "      <th>0</th>\n",
              "      <td>187.8132</td>\n",
              "      <td>1869.595227</td>\n",
              "      <td>1879.005086</td>\n",
              "      <td>22230</td>\n",
              "      <td>1.660935</td>\n",
              "      <td>15.285868</td>\n",
              "      <td>11820</td>\n",
              "      <td>-10410</td>\n",
              "      <td>39.0625</td>\n",
              "      <td>4779.170431</td>\n",
              "      <td>1.562065</td>\n",
              "      <td>1.189970</td>\n",
              "      <td>rest</td>\n",
              "    </tr>\n",
              "    <tr>\n",
              "      <th>1</th>\n",
              "      <td>367.2804</td>\n",
              "      <td>3564.492020</td>\n",
              "      <td>3583.364097</td>\n",
              "      <td>25800</td>\n",
              "      <td>0.240154</td>\n",
              "      <td>3.465215</td>\n",
              "      <td>13410</td>\n",
              "      <td>-12390</td>\n",
              "      <td>39.0625</td>\n",
              "      <td>14780.217093</td>\n",
              "      <td>1.764543</td>\n",
              "      <td>1.113945</td>\n",
              "      <td>up</td>\n",
              "    </tr>\n",
              "    <tr>\n",
              "      <th>2</th>\n",
              "      <td>-14.9826</td>\n",
              "      <td>1903.652736</td>\n",
              "      <td>1903.711695</td>\n",
              "      <td>23490</td>\n",
              "      <td>-2.327222</td>\n",
              "      <td>20.187052</td>\n",
              "      <td>11220</td>\n",
              "      <td>-12270</td>\n",
              "      <td>39.0625</td>\n",
              "      <td>4654.511766</td>\n",
              "      <td>1.566912</td>\n",
              "      <td>1.195824</td>\n",
              "      <td>rest</td>\n",
              "    </tr>\n",
              "    <tr>\n",
              "      <th>3</th>\n",
              "      <td>-103.0128</td>\n",
              "      <td>4141.508170</td>\n",
              "      <td>4142.789104</td>\n",
              "      <td>25260</td>\n",
              "      <td>0.891851</td>\n",
              "      <td>2.723926</td>\n",
              "      <td>15210</td>\n",
              "      <td>-10050</td>\n",
              "      <td>39.0625</td>\n",
              "      <td>6620.899303</td>\n",
              "      <td>1.604872</td>\n",
              "      <td>1.192660</td>\n",
              "      <td>down</td>\n",
              "    </tr>\n",
              "    <tr>\n",
              "      <th>4</th>\n",
              "      <td>354.7260</td>\n",
              "      <td>1717.732992</td>\n",
              "      <td>1753.977528</td>\n",
              "      <td>18840</td>\n",
              "      <td>2.143470</td>\n",
              "      <td>15.337650</td>\n",
              "      <td>12630</td>\n",
              "      <td>-6210</td>\n",
              "      <td>39.0625</td>\n",
              "      <td>9814.275230</td>\n",
              "      <td>1.407774</td>\n",
              "      <td>1.135784</td>\n",
              "      <td>rest</td>\n",
              "    </tr>\n",
              "  </tbody>\n",
              "</table>\n",
              "</div>\n",
              "    <div class=\"colab-df-buttons\">\n",
              "\n",
              "  <div class=\"colab-df-container\">\n",
              "    <button class=\"colab-df-convert\" onclick=\"convertToInteractive('df-4e1c14e0-419b-46ce-b9a6-6ca04180a559')\"\n",
              "            title=\"Convert this dataframe to an interactive table.\"\n",
              "            style=\"display:none;\">\n",
              "\n",
              "  <svg xmlns=\"http://www.w3.org/2000/svg\" height=\"24px\" viewBox=\"0 -960 960 960\">\n",
              "    <path d=\"M120-120v-720h720v720H120Zm60-500h600v-160H180v160Zm220 220h160v-160H400v160Zm0 220h160v-160H400v160ZM180-400h160v-160H180v160Zm440 0h160v-160H620v160ZM180-180h160v-160H180v160Zm440 0h160v-160H620v160Z\"/>\n",
              "  </svg>\n",
              "    </button>\n",
              "\n",
              "  <style>\n",
              "    .colab-df-container {\n",
              "      display:flex;\n",
              "      gap: 12px;\n",
              "    }\n",
              "\n",
              "    .colab-df-convert {\n",
              "      background-color: #E8F0FE;\n",
              "      border: none;\n",
              "      border-radius: 50%;\n",
              "      cursor: pointer;\n",
              "      display: none;\n",
              "      fill: #1967D2;\n",
              "      height: 32px;\n",
              "      padding: 0 0 0 0;\n",
              "      width: 32px;\n",
              "    }\n",
              "\n",
              "    .colab-df-convert:hover {\n",
              "      background-color: #E2EBFA;\n",
              "      box-shadow: 0px 1px 2px rgba(60, 64, 67, 0.3), 0px 1px 3px 1px rgba(60, 64, 67, 0.15);\n",
              "      fill: #174EA6;\n",
              "    }\n",
              "\n",
              "    .colab-df-buttons div {\n",
              "      margin-bottom: 4px;\n",
              "    }\n",
              "\n",
              "    [theme=dark] .colab-df-convert {\n",
              "      background-color: #3B4455;\n",
              "      fill: #D2E3FC;\n",
              "    }\n",
              "\n",
              "    [theme=dark] .colab-df-convert:hover {\n",
              "      background-color: #434B5C;\n",
              "      box-shadow: 0px 1px 3px 1px rgba(0, 0, 0, 0.15);\n",
              "      filter: drop-shadow(0px 1px 2px rgba(0, 0, 0, 0.3));\n",
              "      fill: #FFFFFF;\n",
              "    }\n",
              "  </style>\n",
              "\n",
              "    <script>\n",
              "      const buttonEl =\n",
              "        document.querySelector('#df-4e1c14e0-419b-46ce-b9a6-6ca04180a559 button.colab-df-convert');\n",
              "      buttonEl.style.display =\n",
              "        google.colab.kernel.accessAllowed ? 'block' : 'none';\n",
              "\n",
              "      async function convertToInteractive(key) {\n",
              "        const element = document.querySelector('#df-4e1c14e0-419b-46ce-b9a6-6ca04180a559');\n",
              "        const dataTable =\n",
              "          await google.colab.kernel.invokeFunction('convertToInteractive',\n",
              "                                                    [key], {});\n",
              "        if (!dataTable) return;\n",
              "\n",
              "        const docLinkHtml = 'Like what you see? Visit the ' +\n",
              "          '<a target=\"_blank\" href=https://colab.research.google.com/notebooks/data_table.ipynb>data table notebook</a>'\n",
              "          + ' to learn more about interactive tables.';\n",
              "        element.innerHTML = '';\n",
              "        dataTable['output_type'] = 'display_data';\n",
              "        await google.colab.output.renderOutput(dataTable, element);\n",
              "        const docLink = document.createElement('div');\n",
              "        docLink.innerHTML = docLinkHtml;\n",
              "        element.appendChild(docLink);\n",
              "      }\n",
              "    </script>\n",
              "  </div>\n",
              "\n",
              "\n",
              "<div id=\"df-55a5bc6a-39d4-4ea5-ac15-fa9e104107fd\">\n",
              "  <button class=\"colab-df-quickchart\" onclick=\"quickchart('df-55a5bc6a-39d4-4ea5-ac15-fa9e104107fd')\"\n",
              "            title=\"Suggest charts\"\n",
              "            style=\"display:none;\">\n",
              "\n",
              "<svg xmlns=\"http://www.w3.org/2000/svg\" height=\"24px\"viewBox=\"0 0 24 24\"\n",
              "     width=\"24px\">\n",
              "    <g>\n",
              "        <path d=\"M19 3H5c-1.1 0-2 .9-2 2v14c0 1.1.9 2 2 2h14c1.1 0 2-.9 2-2V5c0-1.1-.9-2-2-2zM9 17H7v-7h2v7zm4 0h-2V7h2v10zm4 0h-2v-4h2v4z\"/>\n",
              "    </g>\n",
              "</svg>\n",
              "  </button>\n",
              "\n",
              "<style>\n",
              "  .colab-df-quickchart {\n",
              "      --bg-color: #E8F0FE;\n",
              "      --fill-color: #1967D2;\n",
              "      --hover-bg-color: #E2EBFA;\n",
              "      --hover-fill-color: #174EA6;\n",
              "      --disabled-fill-color: #AAA;\n",
              "      --disabled-bg-color: #DDD;\n",
              "  }\n",
              "\n",
              "  [theme=dark] .colab-df-quickchart {\n",
              "      --bg-color: #3B4455;\n",
              "      --fill-color: #D2E3FC;\n",
              "      --hover-bg-color: #434B5C;\n",
              "      --hover-fill-color: #FFFFFF;\n",
              "      --disabled-bg-color: #3B4455;\n",
              "      --disabled-fill-color: #666;\n",
              "  }\n",
              "\n",
              "  .colab-df-quickchart {\n",
              "    background-color: var(--bg-color);\n",
              "    border: none;\n",
              "    border-radius: 50%;\n",
              "    cursor: pointer;\n",
              "    display: none;\n",
              "    fill: var(--fill-color);\n",
              "    height: 32px;\n",
              "    padding: 0;\n",
              "    width: 32px;\n",
              "  }\n",
              "\n",
              "  .colab-df-quickchart:hover {\n",
              "    background-color: var(--hover-bg-color);\n",
              "    box-shadow: 0 1px 2px rgba(60, 64, 67, 0.3), 0 1px 3px 1px rgba(60, 64, 67, 0.15);\n",
              "    fill: var(--button-hover-fill-color);\n",
              "  }\n",
              "\n",
              "  .colab-df-quickchart-complete:disabled,\n",
              "  .colab-df-quickchart-complete:disabled:hover {\n",
              "    background-color: var(--disabled-bg-color);\n",
              "    fill: var(--disabled-fill-color);\n",
              "    box-shadow: none;\n",
              "  }\n",
              "\n",
              "  .colab-df-spinner {\n",
              "    border: 2px solid var(--fill-color);\n",
              "    border-color: transparent;\n",
              "    border-bottom-color: var(--fill-color);\n",
              "    animation:\n",
              "      spin 1s steps(1) infinite;\n",
              "  }\n",
              "\n",
              "  @keyframes spin {\n",
              "    0% {\n",
              "      border-color: transparent;\n",
              "      border-bottom-color: var(--fill-color);\n",
              "      border-left-color: var(--fill-color);\n",
              "    }\n",
              "    20% {\n",
              "      border-color: transparent;\n",
              "      border-left-color: var(--fill-color);\n",
              "      border-top-color: var(--fill-color);\n",
              "    }\n",
              "    30% {\n",
              "      border-color: transparent;\n",
              "      border-left-color: var(--fill-color);\n",
              "      border-top-color: var(--fill-color);\n",
              "      border-right-color: var(--fill-color);\n",
              "    }\n",
              "    40% {\n",
              "      border-color: transparent;\n",
              "      border-right-color: var(--fill-color);\n",
              "      border-top-color: var(--fill-color);\n",
              "    }\n",
              "    60% {\n",
              "      border-color: transparent;\n",
              "      border-right-color: var(--fill-color);\n",
              "    }\n",
              "    80% {\n",
              "      border-color: transparent;\n",
              "      border-right-color: var(--fill-color);\n",
              "      border-bottom-color: var(--fill-color);\n",
              "    }\n",
              "    90% {\n",
              "      border-color: transparent;\n",
              "      border-bottom-color: var(--fill-color);\n",
              "    }\n",
              "  }\n",
              "</style>\n",
              "\n",
              "  <script>\n",
              "    async function quickchart(key) {\n",
              "      const quickchartButtonEl =\n",
              "        document.querySelector('#' + key + ' button');\n",
              "      quickchartButtonEl.disabled = true;  // To prevent multiple clicks.\n",
              "      quickchartButtonEl.classList.add('colab-df-spinner');\n",
              "      try {\n",
              "        const charts = await google.colab.kernel.invokeFunction(\n",
              "            'suggestCharts', [key], {});\n",
              "      } catch (error) {\n",
              "        console.error('Error during call to suggestCharts:', error);\n",
              "      }\n",
              "      quickchartButtonEl.classList.remove('colab-df-spinner');\n",
              "      quickchartButtonEl.classList.add('colab-df-quickchart-complete');\n",
              "    }\n",
              "    (() => {\n",
              "      let quickchartButtonEl =\n",
              "        document.querySelector('#df-55a5bc6a-39d4-4ea5-ac15-fa9e104107fd button');\n",
              "      quickchartButtonEl.style.display =\n",
              "        google.colab.kernel.accessAllowed ? 'block' : 'none';\n",
              "    })();\n",
              "  </script>\n",
              "</div>\n",
              "\n",
              "    </div>\n",
              "  </div>\n"
            ],
            "application/vnd.google.colaboratory.intrinsic+json": {
              "type": "dataframe",
              "variable_name": "data",
              "summary": "{\n  \"name\": \"data\",\n  \"rows\": 217,\n  \"fields\": [\n    {\n      \"column\": \"mean\",\n      \"properties\": {\n        \"dtype\": \"number\",\n        \"std\": 209.7093602292015,\n        \"min\": -807.1846,\n        \"max\": 850.50636,\n        \"num_unique_values\": 217,\n        \"samples\": [\n          -11.60608,\n          -40.5983,\n          128.76306\n        ],\n        \"semantic_type\": \"\",\n        \"description\": \"\"\n      }\n    },\n    {\n      \"column\": \"std_dev\",\n      \"properties\": {\n        \"dtype\": \"number\",\n        \"std\": 897.1084461909521,\n        \"min\": 183.07444044509435,\n        \"max\": 4957.956880183279,\n        \"num_unique_values\": 217,\n        \"samples\": [\n          1191.4538892743747,\n          2729.1269624510155,\n          1298.9045131800247\n        ],\n        \"semantic_type\": \"\",\n        \"description\": \"\"\n      }\n    },\n    {\n      \"column\": \"rms\",\n      \"properties\": {\n        \"dtype\": \"number\",\n        \"std\": 890.9576250921998,\n        \"min\": 252.3442841437071,\n        \"max\": 4970.872789563217,\n        \"num_unique_values\": 217,\n        \"samples\": [\n          1191.5104159679008,\n          2729.4289144691056,\n          1305.271182544072\n        ],\n        \"semantic_type\": \"\",\n        \"description\": \"\"\n      }\n    },\n    {\n      \"column\": \"peak_to_peak\",\n      \"properties\": {\n        \"dtype\": \"number\",\n        \"std\": 5261,\n        \"min\": 1237,\n        \"max\": 29556,\n        \"num_unique_values\": 212,\n        \"samples\": [\n          15210,\n          16017,\n          21320\n        ],\n        \"semantic_type\": \"\",\n        \"description\": \"\"\n      }\n    },\n    {\n      \"column\": \"skewness\",\n      \"properties\": {\n        \"dtype\": \"number\",\n        \"std\": 1.8533960888695231,\n        \"min\": -8.97723156931002,\n        \"max\": 6.928398929344301,\n        \"num_unique_values\": 217,\n        \"samples\": [\n          4.229937815980788,\n          0.1291106561982192,\n          -0.25352075339094804\n        ],\n        \"semantic_type\": \"\",\n        \"description\": \"\"\n      }\n    },\n    {\n      \"column\": \"kurtosis\",\n      \"properties\": {\n        \"dtype\": \"number\",\n        \"std\": 11.782409101719214,\n        \"min\": -0.7505824738879459,\n        \"max\": 95.17148209961802,\n        \"num_unique_values\": 217,\n        \"samples\": [\n          28.88799682671598,\n          2.319881756086036,\n          7.340501013811638\n        ],\n        \"semantic_type\": \"\",\n        \"description\": \"\"\n      }\n    },\n    {\n      \"column\": \"max_amp\",\n      \"properties\": {\n        \"dtype\": \"number\",\n        \"std\": 3376,\n        \"min\": 719,\n        \"max\": 15210,\n        \"num_unique_values\": 205,\n        \"samples\": [\n          15060,\n          11100,\n          11060\n        ],\n        \"semantic_type\": \"\",\n        \"description\": \"\"\n      }\n    },\n    {\n      \"column\": \"min_amp\",\n      \"properties\": {\n        \"dtype\": \"number\",\n        \"std\": 2740,\n        \"min\": -14880,\n        \"max\": -481,\n        \"num_unique_values\": 208,\n        \"samples\": [\n          -6454,\n          -5850,\n          -10465\n        ],\n        \"semantic_type\": \"\",\n        \"description\": \"\"\n      }\n    },\n    {\n      \"column\": \"dominant_freq\",\n      \"properties\": {\n        \"dtype\": \"number\",\n        \"std\": 0.0,\n        \"min\": 39.0625,\n        \"max\": 39.0625,\n        \"num_unique_values\": 1,\n        \"samples\": [\n          39.0625\n        ],\n        \"semantic_type\": \"\",\n        \"description\": \"\"\n      }\n    },\n    {\n      \"column\": \"signal_power\",\n      \"properties\": {\n        \"dtype\": \"number\",\n        \"std\": 3530.5934402614243,\n        \"min\": 172.76147367321397,\n        \"max\": 25114.705926263396,\n        \"num_unique_values\": 217,\n        \"samples\": [\n          438.09996133599117\n        ],\n        \"semantic_type\": \"\",\n        \"description\": \"\"\n      }\n    },\n    {\n      \"column\": \"hurst_exponent\",\n      \"properties\": {\n        \"dtype\": \"number\",\n        \"std\": 0.14579325385689915,\n        \"min\": 1.4077738211190043,\n        \"max\": 1.99720642034492,\n        \"num_unique_values\": 217,\n        \"samples\": [\n          1.9802838576081434\n        ],\n        \"semantic_type\": \"\",\n        \"description\": \"\"\n      }\n    },\n    {\n      \"column\": \"higuchi_fd\",\n      \"properties\": {\n        \"dtype\": \"number\",\n        \"std\": 0.055994787310763884,\n        \"min\": 1.0007098516148334,\n        \"max\": 1.1958239416859737,\n        \"num_unique_values\": 217,\n        \"samples\": [\n          1.005121244573171\n        ],\n        \"semantic_type\": \"\",\n        \"description\": \"\"\n      }\n    },\n    {\n      \"column\": \"Label\",\n      \"properties\": {\n        \"dtype\": \"category\",\n        \"num_unique_values\": 3,\n        \"samples\": [\n          \"rest\"\n        ],\n        \"semantic_type\": \"\",\n        \"description\": \"\"\n      }\n    }\n  ]\n}"
            }
          },
          "metadata": {},
          "execution_count": 11
        }
      ]
    },
    {
      "cell_type": "code",
      "source": [],
      "metadata": {
        "id": "9vc6Y7Enps4z"
      },
      "execution_count": null,
      "outputs": []
    },
    {
      "cell_type": "code",
      "source": [
        "X=data.drop('Label',axis=1)\n",
        "Y=data['Label']"
      ],
      "metadata": {
        "id": "5H6TuBBimqQd"
      },
      "execution_count": 10,
      "outputs": []
    },
    {
      "cell_type": "code",
      "source": [
        "label_encoder=LabelEncoder()\n",
        "Y=label_encoder.fit_transform(Y)"
      ],
      "metadata": {
        "id": "XLiw6dYemzqP"
      },
      "execution_count": 13,
      "outputs": []
    },
    {
      "cell_type": "code",
      "source": [
        "print(label_encoder.classes_)"
      ],
      "metadata": {
        "colab": {
          "base_uri": "https://localhost:8080/"
        },
        "id": "5RjrOrNMnZA6",
        "outputId": "b087e8c1-d2cf-45b3-c5d2-00b63ba61dce"
      },
      "execution_count": 15,
      "outputs": [
        {
          "output_type": "stream",
          "name": "stdout",
          "text": [
            "['down' 'rest' 'up']\n"
          ]
        }
      ]
    },
    {
      "cell_type": "code",
      "source": [
        "map = {}"
      ],
      "metadata": {
        "id": "FV8kGl-kp4UJ"
      },
      "execution_count": 39,
      "outputs": []
    },
    {
      "cell_type": "code",
      "source": [
        "print(\"Class Mapping:\")\n",
        "for class_label, encoded_label in zip(label_encoder.classes_, range(len(label_encoder.classes_))):\n",
        "    map[encoded_label] = class_label\n",
        "    print(f\"{class_label} -> {encoded_label}\")"
      ],
      "metadata": {
        "colab": {
          "base_uri": "https://localhost:8080/"
        },
        "id": "YMt34C6MnIWQ",
        "outputId": "a9b4e517-433c-4182-c503-613ef2fefdc8"
      },
      "execution_count": 40,
      "outputs": [
        {
          "output_type": "stream",
          "name": "stdout",
          "text": [
            "Class Mapping:\n",
            "down -> 0\n",
            "rest -> 1\n",
            "up -> 2\n"
          ]
        }
      ]
    },
    {
      "cell_type": "code",
      "source": [
        "print(map)"
      ],
      "metadata": {
        "colab": {
          "base_uri": "https://localhost:8080/"
        },
        "id": "hW9XXn-pqCFB",
        "outputId": "4e9848a0-fa29-4507-b283-c8828fc251bb"
      },
      "execution_count": 41,
      "outputs": [
        {
          "output_type": "stream",
          "name": "stdout",
          "text": [
            "{0: 'down', 1: 'rest', 2: 'up'}\n"
          ]
        }
      ]
    },
    {
      "cell_type": "code",
      "source": [
        "rf_model = RandomForestClassifier(random_state=42, n_estimators=100)\n",
        "\n",
        "# Set up Stratified K-Fold Cross-Validation\n",
        "kf = StratifiedKFold(n_splits=5, shuffle=True, random_state=42)"
      ],
      "metadata": {
        "id": "OAR3yh6nnd_j"
      },
      "execution_count": 16,
      "outputs": []
    },
    {
      "cell_type": "code",
      "source": [
        "cv_scores = cross_val_score(rf_model, X, Y, cv=kf, scoring='accuracy')\n",
        "\n",
        "# Output Cross-Validation Results\n",
        "print(f\"Cross-Validation Accuracy Scores: {cv_scores}\")\n",
        "print(f\"Mean Accuracy: {np.mean(cv_scores):.4f} ± {np.std(cv_scores):.4f}\")"
      ],
      "metadata": {
        "colab": {
          "base_uri": "https://localhost:8080/"
        },
        "id": "EaZeOHcEnmnV",
        "outputId": "ccea205a-8a00-496f-a641-c183a061128d"
      },
      "execution_count": 18,
      "outputs": [
        {
          "output_type": "stream",
          "name": "stdout",
          "text": [
            "Cross-Validation Accuracy Scores: [0.95454545 0.84090909 0.88372093 0.95348837 0.86046512]\n",
            "Mean Accuracy: 0.8986 ± 0.0472\n"
          ]
        }
      ]
    },
    {
      "cell_type": "code",
      "source": [
        "rf_model.fit(X, Y)\n",
        "y_pred = rf_model.predict(X)\n",
        "\n",
        "# Generate classification report\n",
        "print(\"Classification Report:\")\n",
        "print(classification_report(Y, y_pred, target_names=label_encoder.classes_))"
      ],
      "metadata": {
        "colab": {
          "base_uri": "https://localhost:8080/"
        },
        "id": "wILfI5kEpd0r",
        "outputId": "6fe3fc9b-702a-42c8-e986-111db716dafe"
      },
      "execution_count": 20,
      "outputs": [
        {
          "output_type": "stream",
          "name": "stdout",
          "text": [
            "Classification Report:\n",
            "              precision    recall  f1-score   support\n",
            "\n",
            "        down       1.00      1.00      1.00        54\n",
            "        rest       1.00      1.00      1.00       109\n",
            "          up       1.00      1.00      1.00        54\n",
            "\n",
            "    accuracy                           1.00       217\n",
            "   macro avg       1.00      1.00      1.00       217\n",
            "weighted avg       1.00      1.00      1.00       217\n",
            "\n"
          ]
        }
      ]
    },
    {
      "cell_type": "code",
      "source": [
        "print(type(X))"
      ],
      "metadata": {
        "colab": {
          "base_uri": "https://localhost:8080/"
        },
        "id": "dWxzvpLJqWpy",
        "outputId": "df8f2629-02ef-44e3-d331-a6fc380e3a26"
      },
      "execution_count": 28,
      "outputs": [
        {
          "output_type": "stream",
          "name": "stdout",
          "text": [
            "<class 'pandas.core.frame.DataFrame'>\n"
          ]
        }
      ]
    },
    {
      "cell_type": "code",
      "source": [
        "test=data.iloc[3]"
      ],
      "metadata": {
        "id": "c07o6rVUqGYN"
      },
      "execution_count": 48,
      "outputs": []
    },
    {
      "cell_type": "code",
      "source": [
        "test.drop(test.index[-1], inplace=True)  # In-place deletion of the last element\n",
        "print(test)"
      ],
      "metadata": {
        "colab": {
          "base_uri": "https://localhost:8080/"
        },
        "id": "cW9k20Tsqx22",
        "outputId": "db7ffafb-3f21-44cc-ebd0-c9b7215a3302"
      },
      "execution_count": 34,
      "outputs": [
        {
          "output_type": "stream",
          "name": "stdout",
          "text": [
            "mean                -103.0128\n",
            "std_dev            4141.50817\n",
            "rms               4142.789104\n",
            "peak_to_peak            25260\n",
            "skewness             0.891851\n",
            "kurtosis             2.723926\n",
            "max_amp                 15210\n",
            "min_amp                -10050\n",
            "dominant_freq         39.0625\n",
            "signal_power      6620.899303\n",
            "hurst_exponent       1.604872\n",
            "higuchi_fd            1.19266\n",
            "Name: 3, dtype: object\n"
          ]
        },
        {
          "output_type": "stream",
          "name": "stderr",
          "text": [
            "<ipython-input-34-74117a74c931>:1: SettingWithCopyWarning: \n",
            "A value is trying to be set on a copy of a slice from a DataFrame\n",
            "\n",
            "See the caveats in the documentation: https://pandas.pydata.org/pandas-docs/stable/user_guide/indexing.html#returning-a-view-versus-a-copy\n",
            "  test.drop(test.index[-1], inplace=True)  # In-place deletion of the last element\n"
          ]
        }
      ]
    },
    {
      "cell_type": "code",
      "source": [
        "#convert the test into numpy 2D array\n",
        "# you can also convert to DataFrame\n",
        "\n",
        "test = np.array(test).reshape(1, -1) # 1 means 2D array should have 1 row and -1 means automaticcaly infer number of columns from the test array\n",
        "\n",
        "# Make prediction\n",
        "prediction = rf_model.predict(test)\n",
        "print(prediction)\n",
        "for i in prediction:\n",
        "  print(map[i])"
      ],
      "metadata": {
        "colab": {
          "base_uri": "https://localhost:8080/"
        },
        "id": "6xzq6x-Wr8a9",
        "outputId": "7bbfb862-ae84-4bdb-8929-e6f174eb794b"
      },
      "execution_count": 42,
      "outputs": [
        {
          "output_type": "stream",
          "name": "stdout",
          "text": [
            "[0]\n",
            "down\n"
          ]
        },
        {
          "output_type": "stream",
          "name": "stderr",
          "text": [
            "/usr/local/lib/python3.10/dist-packages/sklearn/utils/validation.py:2739: UserWarning: X does not have valid feature names, but RandomForestClassifier was fitted with feature names\n",
            "  warnings.warn(\n"
          ]
        }
      ]
    },
    {
      "cell_type": "markdown",
      "source": [
        "CONVERT THE PANDAS SERIES test TO DATAFRAME TO AVOID THE WARNING"
      ],
      "metadata": {
        "id": "uNBfyCoJu7LJ"
      }
    },
    {
      "cell_type": "code",
      "source": [
        "# Convert the Series to DataFrame with the correct feature names\n",
        "test_df = pd.DataFrame(test).T  # T transposes the Series into a DataFrame, making it a single row\n",
        "\n",
        "# Ensure the columns are correctly assigned from the original DataFrame's column names\n",
        "test_df.columns = data.columns\n",
        "\n",
        "test_df.drop('Label',axis=1,inplace=True)\n",
        "\n",
        "# Make the prediction\n",
        "prediction = rf_model.predict(test_df)\n",
        "print(prediction)\n",
        "\n",
        "for i in prediction:\n",
        "    print(map[i])  # Print the mapped label\n"
      ],
      "metadata": {
        "colab": {
          "base_uri": "https://localhost:8080/"
        },
        "id": "5p9zi2CYuKH8",
        "outputId": "39d9acd7-2dd8-4923-90e9-1b3fbff311e1"
      },
      "execution_count": 51,
      "outputs": [
        {
          "output_type": "stream",
          "name": "stdout",
          "text": [
            "[0]\n",
            "down\n"
          ]
        }
      ]
    }
  ]
}